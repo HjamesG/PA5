{
 "cells": [
  {
   "cell_type": "markdown",
   "id": "129df824",
   "metadata": {},
   "source": [
    "# Programming Assignment 5\n",
    "### Harrison Gilbert, Fall 2023, Version 1"
   ]
  },
  {
   "cell_type": "markdown",
   "id": "8a255547",
   "metadata": {},
   "source": [
    "### Task 1: Language Translator\n",
    "#### write a program that implements a translation dictionary using a Python dictionary data structure that maps 10 English words to 10 words in another language (e.g. Spanish, German, Farsi, Arabic, Japanese, etc.). The keys in your dictionary should be in English (all lower case), and your values should be in your target language (also all lowercase). Your program should ask for words in English to translate to your target language until the user enters the number zero (0)."
   ]
  },
  {
   "cell_type": "code",
   "execution_count": 54,
   "id": "2c770e88",
   "metadata": {},
   "outputs": [
    {
     "name": "stdout",
     "output_type": "stream",
     "text": [
      "To exit, enter \"0\" anytime.\n",
      "\n",
      "The dictionary has these words:\n",
      "\n",
      "{'hello': 'hola', 'goodbye': 'adios', 'tired': 'cansada', 'couch': 'sofa', 'drink': 'beber', 'school': 'escuela', 'work': 'trabajar', 'computer': 'computadora', 'cat': 'gato', 'shoes': 'zapatos'}\n",
      "\n",
      "\n",
      "What english word would you like translated? hello\n",
      "hello in spanish is hola\n",
      "\n",
      "What english word would you like translated? 0\n"
     ]
    }
   ],
   "source": [
    "trnslt = {\"hello\":\"hola\",\"goodbye\":\"adios\",\"tired\":\"cansada\",\"couch\":\"sofa\",\"drink\":\"beber\",\"school\":\"escuela\",\"work\":\"trabajar\",\"computer\":\"computadora\",\"cat\":\"gato\",\"shoes\":\"zapatos\"}\n",
    "\n",
    "print(f\"To exit, enter \\\"0\\\" anytime.\\n\\nThe dictionary has these words:\\n\\n{trnslt}\\n\")\n",
    "while True:\n",
    "    usr = input(\"\\nWhat english word would you like translated? \")\n",
    "    if usr == \"0\":\n",
    "        break\n",
    "    print(f\"{usr} in spanish is {trnslt[usr]}\")\n"
   ]
  },
  {
   "cell_type": "markdown",
   "id": "77c9fecf",
   "metadata": {},
   "source": [
    "### Task 2: Temperature converter\n",
    "#### Create a dictionary named temp_dict containing the highest temperature in Fahrenheit for each day of September 2023 in Louisville, Kentucky. The keys will be the day of the month, and the values will be the temperature in Fahrenheit. Access each temperature value in Fahrenheit from the dictionary, convert it to Celsius using the formula (temperature - 32) * 5/9, and update the original dictionary with the Celsius value. Take help from the weather app to create a correct dictionary."
   ]
  },
  {
   "cell_type": "code",
   "execution_count": 18,
   "id": "d6e32e12",
   "metadata": {},
   "outputs": [
    {
     "name": "stdout",
     "output_type": "stream",
     "text": [
      "The original temperatures would be {'Sep1': 82, 'Sep2': 88, 'Sep3': 90, 'Sep4': 90, 'Sep5': 90, 'Sep6': 84, 'Sep7': 75, 'Sep8': 75, 'Sep9': 75, 'Sep10': 79, 'Sep11': 82, 'Sep12': 73, 'Sep13': 77, 'Sep14': 79, 'Sep15': 77, 'Sep16': 79, 'Sep17': 75, 'Sep18': 75, 'Sep19': 77, 'Sep20': 82, 'Sep21': 82, 'Sep22': 84, 'Sep23': 81, 'Sep24': 81, 'Sep25': 85, 'Sep26': 84, 'Sep27': 77, 'Sep28': 77, 'Sep29': 79, 'Sep30': 82}\n",
      "\n",
      "The modified temperatures would be {'Sep1': 28, 'Sep2': 31, 'Sep3': 32, 'Sep4': 32, 'Sep5': 32, 'Sep6': 29, 'Sep7': 24, 'Sep8': 24, 'Sep9': 24, 'Sep10': 26, 'Sep11': 28, 'Sep12': 23, 'Sep13': 25, 'Sep14': 26, 'Sep15': 25, 'Sep16': 26, 'Sep17': 24, 'Sep18': 24, 'Sep19': 25, 'Sep20': 28, 'Sep21': 28, 'Sep22': 29, 'Sep23': 27, 'Sep24': 27, 'Sep25': 29, 'Sep26': 29, 'Sep27': 25, 'Sep28': 25, 'Sep29': 26, 'Sep30': 28}\n"
     ]
    }
   ],
   "source": [
    "temp_dict = {\"Sep1\": 82, \"Sep2\": 88, \"Sep3\": 90, \"Sep4\": 90, \"Sep5\": 90, \"Sep6\": 84, \"Sep7\": 75, \"Sep8\": 75, \"Sep9\":75,\"Sep10\":79,\"Sep11\":82, \"Sep12\":73,\"Sep13\":77, \"Sep14\":79, \"Sep15\":77,\"Sep16\":79, \"Sep17\":75,\"Sep18\":75,\"Sep19\":77,\"Sep20\":82,\"Sep21\":82,\"Sep22\":84,\"Sep23\":81,\"Sep24\":81,\"Sep25\":85,\"Sep26\":84,\"Sep27\":77,\"Sep28\":77,\"Sep29\":79,\"Sep30\":82}\n",
    "print(f\"The original temperatures are {temp_dict}\")\n",
    "\n",
    "for i in temp_dict:\n",
    "    #print(f\"On {i}, it was {temp_dict[i]}\")\n",
    "    temp_dict[i] = round((temp_dict[i]-32)*(5.0/9.0))\n",
    "    #print(f\"The temperature on {i} in celcius would be {temp_dict[i]}\")\n",
    "\n",
    "print(f\"\\nThe modified temperatures are {temp_dict}\")"
   ]
  },
  {
   "cell_type": "markdown",
   "id": "682f2579",
   "metadata": {},
   "source": [
    "### Task 3: Write a Python script to create a dictionary where the keys are numbers between 1 and 15 (both included) and the values are the squares of the keys."
   ]
  },
  {
   "cell_type": "code",
   "execution_count": 56,
   "id": "bcdc3ee3",
   "metadata": {},
   "outputs": [
    {
     "ename": "SyntaxError",
     "evalue": "invalid syntax (2257398650.py, line 1)",
     "output_type": "error",
     "traceback": [
      "\u001b[0;36m  Cell \u001b[0;32mIn[56], line 1\u001b[0;36m\u001b[0m\n\u001b[0;31m    newDict = {for i in range(1,16): newDict.update({i: i**2})}\u001b[0m\n\u001b[0m               ^\u001b[0m\n\u001b[0;31mSyntaxError\u001b[0m\u001b[0;31m:\u001b[0m invalid syntax\n"
     ]
    }
   ],
   "source": [
    "newDict = {}\n",
    "for i in range(1,16):\n",
    "    newDict.update({i: i**2})\n",
    "\n",
    "print(newDict)"
   ]
  },
  {
   "cell_type": "markdown",
   "id": "72496c3a",
   "metadata": {},
   "source": [
    "### Task 4: User Profile Dictionary\n",
    "#### Create a Python program that manages user profiles using a dictionary. Follow these steps:\n",
    "#### A: Create an empty dictionary named user_profiles to store user information.\n",
    "#### B: Implement a while loop that allows users to input their information. The loop should repeatedly ask the user to enter their name, age, email, and city. Add this information to the user_profiles dictionary.\n",
    "#### C: Add a break condition to exit the loop.\n",
    "#### D: Ask the user to input their information and add it to the dictionary. Allow the user to search for a specific user's profile by providing their name. If the user is found, display their profile; otherwise, show a message that the user is not found."
   ]
  },
  {
   "cell_type": "code",
   "execution_count": 52,
   "id": "f3b6f067",
   "metadata": {},
   "outputs": [
    {
     "name": "stdout",
     "output_type": "stream",
     "text": [
      "Main Menu:\n",
      "Exit ---------------- x\n",
      "Search Users --------- s\n",
      "Enter Data ------------e\n",
      "e\n",
      "What is your name? Harrison Gilbert\n",
      "What is your age? 18\n",
      "What is your email? scammers@urmomshouse.lol\n",
      "What city do you live in? LaGrange\n",
      "Main Menu:\n",
      "Exit ---------------- x\n",
      "Search Users --------- s\n",
      "Enter Data ------------e\n",
      "e\n",
      "What is your name? Anthony\n",
      "What is your age? 17\n",
      "What is your email? dfkjsld\n",
      "What city do you live in? Eminence\n",
      "Main Menu:\n",
      "Exit ---------------- x\n",
      "Search Users --------- s\n",
      "Enter Data ------------e\n",
      "s\n",
      "Whose data would you like to see? Anthony\n",
      "There is no data regarding \" Anthony \"\n",
      "Information regarding Anthony:\n",
      "{'age': 17, 'email': 'dfkjsld', 'city': 'Eminence'}\n",
      "Main Menu:\n",
      "Exit ---------------- x\n",
      "Search Users --------- s\n",
      "Enter Data ------------e\n",
      "x\n"
     ]
    }
   ],
   "source": [
    "user_profiles = {}\n",
    "while True:\n",
    "    menu = input(\"Main Menu:\\nExit ---------------- x\\nSearch Users --------- s\\nEnter Data ------------e\\n\")\n",
    "    if menu == \"x\":\n",
    "        break\n",
    "    elif menu == \"s\":\n",
    "        search = input(\"Whose data would you like to see? \")\n",
    "        for user in user_profiles.keys():\n",
    "            if search == user:\n",
    "                print(f\"Information regarding {search}:\\n{user_profiles[search]}\")\n",
    "            else:\n",
    "                print(\"There is no data regarding \\\"\", search, \"\\\"\")\n",
    "    elif menu == \"e\":\n",
    "        userName = input(\"What is your name? \")\n",
    "        age = int(input(\"What is your age? \"))\n",
    "        email = input(\"What is your email? \")\n",
    "        city = input(\"What city do you live in? \")\n",
    "        user_profiles.update({userName:{\"age\":age,\"email\":email,\"city\":city}})\n",
    "    \n",
    "    else:\n",
    "        print(\"\\nPlease enter a valid response\\n\")\n",
    "        \n",
    "\n",
    "    \n",
    "    \n",
    "        \n",
    "    "
   ]
  },
  {
   "cell_type": "code",
   "execution_count": null,
   "id": "2dec21f3",
   "metadata": {},
   "outputs": [],
   "source": []
  }
 ],
 "metadata": {
  "kernelspec": {
   "display_name": "Python 3 (ipykernel)",
   "language": "python",
   "name": "python3"
  },
  "language_info": {
   "codemirror_mode": {
    "name": "ipython",
    "version": 3
   },
   "file_extension": ".py",
   "mimetype": "text/x-python",
   "name": "python",
   "nbconvert_exporter": "python",
   "pygments_lexer": "ipython3",
   "version": "3.11.4"
  }
 },
 "nbformat": 4,
 "nbformat_minor": 5
}
